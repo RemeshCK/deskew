{
 "cells": [
  {
   "cell_type": "markdown",
   "metadata": {},
   "source": [
    "# Amazon Translate is a neural machine translation service that delivers fast, high-quality, affordable, and customizable language translation"
   ]
  },
  {
   "cell_type": "code",
   "execution_count": null,
   "metadata": {},
   "outputs": [],
   "source": [
    "import boto3\n",
    "\n",
    "translate = boto3.client('translate')\n",
    "result = translate.translate_text(Text=\"Hello, World\",\n",
    "                                  SourceLanguageCode=\"en\",\n",
    "                                  TargetLanguageCode=\"de\")\n",
    "print(f'TranslatedText: {result[\"TranslatedText\"]}')\n",
    "print(f'SourceLanguageCode: {result[\"SourceLanguageCode\"]}')\n",
    "print(f'TargetLanguageCode: {result[\"TargetLanguageCode\"]}')"
   ]
  }
 ],
 "metadata": {
  "kernelspec": {
   "display_name": "Python 3",
   "language": "python",
   "name": "python3"
  },
  "language_info": {
   "codemirror_mode": {
    "name": "ipython",
    "version": 3
   },
   "file_extension": ".py",
   "mimetype": "text/x-python",
   "name": "python",
   "nbconvert_exporter": "python",
   "pygments_lexer": "ipython3",
   "version": "3.8.5"
  }
 },
 "nbformat": 4,
 "nbformat_minor": 4
}
