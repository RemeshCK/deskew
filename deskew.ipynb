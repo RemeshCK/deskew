{
 "cells": [
  {
   "cell_type": "code",
   "execution_count": 16,
   "metadata": {},
   "outputs": [],
   "source": [
    "import numpy as np\n",
    "import cv2\n",
    "import math\n",
    "from scipy import ndimage"
   ]
  },
  {
   "cell_type": "code",
   "execution_count": 26,
   "metadata": {},
   "outputs": [],
   "source": [
    "def compute_skew(file_name):\n",
    "    \n",
    "    #load in grayscale:\n",
    "    src = cv2.imread(file_name,0)\n",
    "    height, width = src.shape[0:2]\n",
    "    \n",
    "    #invert the colors of our image:\n",
    "    cv2.bitwise_not(src, src)\n",
    "    \n",
    "    #Hough transform:\n",
    "    minLineLength = width/2.0\n",
    "    maxLineGap = 20\n",
    "    lines = cv2.HoughLinesP(src,1,np.pi/180,100,minLineLength,maxLineGap)\n",
    "    \n",
    "    #calculate the angle between each line and the horizontal line:\n",
    "    angle = 0.0\n",
    "    nb_lines = len(lines)\n",
    "    \n",
    "    \n",
    "    for line in lines:\n",
    "        angle += math.atan2(line[0][3]*1.0 - line[0][1]*1.0,line[0][2]*1.0 - line[0][0]*1.0);\n",
    "    \n",
    "    angle /= nb_lines*1.0\n",
    "    \n",
    "    return angle* 180.0 / np.pi"
   ]
  },
  {
   "cell_type": "code",
   "execution_count": 40,
   "metadata": {},
   "outputs": [],
   "source": [
    "image_path='skew_6.jpg'\n",
    "x=compute_skew(image_path)"
   ]
  },
  {
   "cell_type": "code",
   "execution_count": 41,
   "metadata": {},
   "outputs": [
    {
     "name": "stdout",
     "output_type": "stream",
     "text": [
      "45.15002222214842\n"
     ]
    }
   ],
   "source": [
    "print(x)"
   ]
  },
  {
   "cell_type": "code",
   "execution_count": 33,
   "metadata": {},
   "outputs": [],
   "source": [
    "image_path='skew_3.jpg'\n",
    "src = cv2.imread(image_path)\n"
   ]
  },
  {
   "cell_type": "code",
   "execution_count": 30,
   "metadata": {},
   "outputs": [],
   "source": [
    "height, width, channels = src.shape"
   ]
  },
  {
   "cell_type": "code",
   "execution_count": null,
   "metadata": {},
   "outputs": [],
   "source": []
  }
 ],
 "metadata": {
  "kernelspec": {
   "display_name": "Python 3",
   "language": "python",
   "name": "python3"
  },
  "language_info": {
   "codemirror_mode": {
    "name": "ipython",
    "version": 3
   },
   "file_extension": ".py",
   "mimetype": "text/x-python",
   "name": "python",
   "nbconvert_exporter": "python",
   "pygments_lexer": "ipython3",
   "version": "3.8.5"
  }
 },
 "nbformat": 4,
 "nbformat_minor": 4
}
