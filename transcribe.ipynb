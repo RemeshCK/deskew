{
 "cells": [
  {
   "cell_type": "markdown",
   "metadata": {},
   "source": [
    "# python -m pip install amazon-transcribe aiofile"
   ]
  },
  {
   "cell_type": "code",
   "execution_count": null,
   "metadata": {},
   "outputs": [],
   "source": [
    "from amazon_transcribe.client import TranscribeStreamingClient\n",
    "\n",
    "# Setup up our client with our chosen AWS region\n",
    "client = TranscribeStreamingClient(region=\"us-west-2\")"
   ]
  },
  {
   "cell_type": "code",
   "execution_count": null,
   "metadata": {},
   "outputs": [],
   "source": [
    "# Start transcription to generate our async stream\n",
    "stream = await client.start_stream_transcription(\n",
    "    language_code=\"en-US\",\n",
    "    media_sample_rate_hz=16000,\n",
    "    media_encoding=\"pcm\",\n",
    ")"
   ]
  },
  {
   "cell_type": "code",
   "execution_count": null,
   "metadata": {},
   "outputs": [],
   "source": [
    "import aiofile\n",
    "\n",
    "async def write_chunks():\n",
    "    # An example file can be found at tests/integration/assets/test.wav\n",
    "    async with aiofile.AIOFile('tests/integration/assets/test.wav', 'rb') as afp:\n",
    "        reader = aiofile.Reader(afp, chunk_size=1024 * 16)\n",
    "        async for chunk in reader:\n",
    "            await stream.input_stream.send_audio_event(audio_chunk=chunk)\n",
    "    await stream.input_stream.end_stream()"
   ]
  },
  {
   "cell_type": "code",
   "execution_count": null,
   "metadata": {},
   "outputs": [],
   "source": [
    "from amazon_transcribe.handlers import TranscriptResultStreamHandler\n",
    "from amazon_transcribe.model import TranscriptEvent\n",
    "\n",
    "class MyEventHandler(TranscriptResultStreamHandler):\n",
    "    async def handle_transcript_event(self, transcript_event: TranscriptEvent):\n",
    "        # This handler can be implemented to handle transcriptions as needed.\n",
    "        # In this case, we're simply printing all of the returned results\n",
    "        results = transcript_event.transcript.results\n",
    "        for result in results:\n",
    "            for alt in result.alternatives:\n",
    "                print(alt.transcript)"
   ]
  },
  {
   "cell_type": "code",
   "execution_count": null,
   "metadata": {},
   "outputs": [],
   "source": [
    "import asyncio\n",
    "\n",
    "# Instantiate our handler and start processing events\n",
    "handler = MyEventHandler(stream.output_stream)\n",
    "await asyncio.gather(write_chunks(), handler.handle_events())"
   ]
  },
  {
   "cell_type": "code",
   "execution_count": null,
   "metadata": {},
   "outputs": [],
   "source": [
    "import asyncio\n",
    "# This example uses aiofile for asynchronous file reads.\n",
    "# It's not a dependency of the project but can be installed\n",
    "# with `pip install aiofile`.\n",
    "import aiofile\n",
    "\n",
    "from amazon_transcribe.client import TranscribeStreamingClient\n",
    "from amazon_transcribe.handlers import TranscriptResultStreamHandler\n",
    "from amazon_transcribe.model import TranscriptEvent\n",
    "\n",
    "\"\"\"\n",
    "Here's an example of a custom event handler you can extend to\n",
    "process the returned transcription results as needed. This\n",
    "handler will simply print the text out to your interpreter.\n",
    "\"\"\"\n",
    "class MyEventHandler(TranscriptResultStreamHandler):\n",
    "    async def handle_transcript_event(self, transcript_event: TranscriptEvent):\n",
    "        # This handler can be implemented to handle transcriptions as needed.\n",
    "        # Here's an example to get started.\n",
    "        results = transcript_event.transcript.results\n",
    "        for result in results:\n",
    "            for alt in result.alternatives:\n",
    "                print(alt.transcript)\n",
    "\n",
    "\n",
    "async def basic_transcribe():\n",
    "    # Setup up our client with our chosen AWS region\n",
    "    client = TranscribeStreamingClient(region=\"us-west-2\")\n",
    "\n",
    "    # Start transcription to generate our async stream\n",
    "    stream = await client.start_stream_transcription(\n",
    "        language_code=\"en-US\",\n",
    "        media_sample_rate_hz=16000,\n",
    "        media_encoding=\"pcm\",\n",
    "    )\n",
    "\n",
    "    async def write_chunks():\n",
    "        # An example file can be found at tests/integration/assets/test.wav\n",
    "        # NOTE: For pre-recorded files longer than 5 minutes, the sent audio\n",
    "        # chunks should be rate limited to match the realtime bitrate of the\n",
    "        # audio stream to avoid signing issues.\n",
    "        async with aiofile.AIOFile('tests/integration/assets/test.wav', 'rb') as afp:\n",
    "            reader = aiofile.Reader(afp, chunk_size=1024 * 16)\n",
    "            async for chunk in reader:\n",
    "                await stream.input_stream.send_audio_event(audio_chunk=chunk)\n",
    "        await stream.input_stream.end_stream()\n",
    "\n",
    "    # Instantiate our handler and start processing events\n",
    "    handler = MyEventHandler(stream.output_stream)\n",
    "    await asyncio.gather(write_chunks(), handler.handle_events())\n",
    "\n",
    "loop = asyncio.get_event_loop()\n",
    "loop.run_until_complete(basic_transcribe())\n",
    "loop.close()"
   ]
  }
 ],
 "metadata": {
  "kernelspec": {
   "display_name": "Python 3",
   "language": "python",
   "name": "python3"
  },
  "language_info": {
   "codemirror_mode": {
    "name": "ipython",
    "version": 3
   },
   "file_extension": ".py",
   "mimetype": "text/x-python",
   "name": "python",
   "nbconvert_exporter": "python",
   "pygments_lexer": "ipython3",
   "version": "3.8.5"
  }
 },
 "nbformat": 4,
 "nbformat_minor": 4
}
